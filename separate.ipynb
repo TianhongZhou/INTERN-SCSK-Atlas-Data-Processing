{
 "cells": [
  {
   "cell_type": "code",
   "execution_count": 1,
   "id": "8334f87a",
   "metadata": {},
   "outputs": [],
   "source": [
    "import pandas as pd"
   ]
  },
  {
   "cell_type": "code",
   "execution_count": 2,
   "id": "b8845e99",
   "metadata": {},
   "outputs": [],
   "source": [
    "df = pd.read_excel(r'C:\\Users\\zhou.tianhong\\Desktop\\拧紧数据相关0708\\0708\\OK_RrStabilizer_50軸分.xlsx')\n",
    "rows = df.shape[0] - 1\n",
    "lst = [0 for index in range(df.shape[1])]\n",
    "lst[0] = 1\n",
    "df.loc[rows + 1] = lst"
   ]
  },
  {
   "cell_type": "code",
   "execution_count": 3,
   "id": "bc1a8b66",
   "metadata": {},
   "outputs": [],
   "source": [
    "start = 0\n",
    "df2 = pd.DataFrame(columns=['time_stamp','data','data1'])\n",
    "i = 0\n",
    "lst = [0, 0, 0]\n",
    "for x in range(0, rows + 1):\n",
    "\n",
    "    if (df.loc[x, '结果 ID'] == df.loc[x + 1, '结果 ID']):\n",
    "        df2.loc[i] = lst\n",
    "        df2.loc[i, 'time_stamp'] = df.loc[x, '采样时间']\n",
    "        df2.loc[i, 'data'] = df.loc[x, '扭矩 (N·m)']\n",
    "        df2.loc[i, 'data1'] = df.loc[x, '角度 (度)']\n",
    "        i = i + 1\n",
    "        \n",
    "    else:\n",
    "        df2.loc[i] = lst\n",
    "        df2.loc[i, 'time_stamp'] = df.loc[x, '采样时间']\n",
    "        df2.loc[i, 'data'] = df.loc[x, '扭矩 (N·m)']\n",
    "        df2.loc[i, 'data1'] = df.loc[x, '角度 (度)']\n",
    "        name = \"OK_RrStabilizer_\" + str(df.loc[x, '结果 ID']) + \".csv\"\n",
    "        outputpath='C:/Users/zhou.tianhong/Desktop/output/' + name\n",
    "        df2.to_csv(outputpath, sep=',', index=False, header=True)\n",
    "        i = 0\n",
    "        df2 = pd.DataFrame(columns=['time_stamp','data','data1'])"
   ]
  },
  {
   "cell_type": "code",
   "execution_count": null,
   "id": "359475a5",
   "metadata": {},
   "outputs": [],
   "source": []
  }
 ],
 "metadata": {
  "kernelspec": {
   "display_name": "Python 3 (ipykernel)",
   "language": "python",
   "name": "python3"
  },
  "language_info": {
   "codemirror_mode": {
    "name": "ipython",
    "version": 3
   },
   "file_extension": ".py",
   "mimetype": "text/x-python",
   "name": "python",
   "nbconvert_exporter": "python",
   "pygments_lexer": "ipython3",
   "version": "3.9.12"
  }
 },
 "nbformat": 4,
 "nbformat_minor": 5
}

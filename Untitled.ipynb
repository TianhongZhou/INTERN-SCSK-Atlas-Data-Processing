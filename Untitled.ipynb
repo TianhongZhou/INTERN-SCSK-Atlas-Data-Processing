{
 "cells": [
  {
   "cell_type": "code",
   "execution_count": 1,
   "id": "d0749131",
   "metadata": {},
   "outputs": [],
   "source": [
    "import pandas as pd"
   ]
  },
  {
   "cell_type": "code",
   "execution_count": 41,
   "id": "a5393001",
   "metadata": {},
   "outputs": [],
   "source": [
    "def fill_in(name, interval, start, end):\n",
    "    df = pd.read_csv(name)\n",
    "    rows = df.shape[0] - 1\n",
    "    \n",
    "    for x in range(0, rows):\n",
    "        if (df.loc[x, 'data1'] <= start) & (df.loc[x + 1, 'data1'] >= start):\n",
    "            x_start = x\n",
    "            break\n",
    "            \n",
    "    for x in range(x_start, rows):\n",
    "        if (df.loc[x, 'data1'] <= end) & (df.loc[x + 1, 'data1'] >= end):\n",
    "            x_end = x\n",
    "            break\n",
    "    \n",
    "    df2 = pd.DataFrame(columns=['time_stamp','data','data1'])\n",
    "    i = 0\n",
    "    lst = [0, 0, 0]\n",
    "    for x in range(x_start, x_end):\n",
    "        df.loc[x, 'time_stamp'] = df.loc[x, 'time_stamp'] + i * interval\n",
    "        pre_time = df.loc[x, 'time_stamp']\n",
    "        pre_data = df.loc[x, 'data']\n",
    "        pre_data1 = df.loc[x, 'data1']\n",
    "        post_data = df.loc[x + 1, 'data']\n",
    "        post_data1 = df.loc[x + 1, 'data1']\n",
    "        ave_data = (pre_data + post_data) / 2\n",
    "        ave_data1 = (pre_data1 + post_data1) / 2\n",
    "        lst[0] = pre_time  + interval\n",
    "        lst[1] = ave_data\n",
    "        lst[2] = ave_data1\n",
    "        df2.loc[i] = lst\n",
    "        i = i + 1\n",
    "        \n",
    "    for x in range(x_end, rows + 1):\n",
    "        df.loc[x, 'time_stamp'] = df.loc[x - 1, 'time_stamp'] + interval\n",
    "\n",
    "    \n",
    "    df = pd.concat([df, df2])\n",
    "    df.sort_values(by='time_stamp',axis = 0,ascending = True)\n",
    "    return df"
   ]
  },
  {
   "cell_type": "code",
   "execution_count": 42,
   "id": "bb342acf",
   "metadata": {},
   "outputs": [],
   "source": [
    "df = fill_in(r'C:\\Users\\zhou.tianhong\\Desktop\\output\\OK_RrStabilizer_65022256.csv', 2, 300, 410)"
   ]
  },
  {
   "cell_type": "code",
   "execution_count": 43,
   "id": "f2002eb6",
   "metadata": {},
   "outputs": [],
   "source": [
    "df.to_csv(r'C:\\Users\\zhou.tianhong\\Desktop\\output\\OK_RrStabilizer_65022256_new.csv', sep=',', index=False, header=True)"
   ]
  },
  {
   "cell_type": "code",
   "execution_count": null,
   "id": "5186ef2e",
   "metadata": {},
   "outputs": [],
   "source": []
  }
 ],
 "metadata": {
  "kernelspec": {
   "display_name": "Python 3 (ipykernel)",
   "language": "python",
   "name": "python3"
  },
  "language_info": {
   "codemirror_mode": {
    "name": "ipython",
    "version": 3
   },
   "file_extension": ".py",
   "mimetype": "text/x-python",
   "name": "python",
   "nbconvert_exporter": "python",
   "pygments_lexer": "ipython3",
   "version": "3.9.12"
  }
 },
 "nbformat": 4,
 "nbformat_minor": 5
}

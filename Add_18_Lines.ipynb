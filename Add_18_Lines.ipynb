{
 "cells": [
  {
   "cell_type": "code",
   "execution_count": 1,
   "id": "aba761d5",
   "metadata": {},
   "outputs": [],
   "source": [
    "import pandas as pd"
   ]
  },
  {
   "cell_type": "code",
   "execution_count": 2,
   "id": "7b03e2c1",
   "metadata": {},
   "outputs": [],
   "source": [
    "df = pd.read_excel(r'C:\\Users\\zhou.tianhong\\Desktop\\拧紧数据相关0708\\0708\\OK_FrLwrArmH_50軸分.xlsx')\n",
    "rows = df.shape[0] - 1\n",
    "lst = [0 for index in range(df.shape[1])]\n",
    "lst[0] = 1\n",
    "df.loc[rows] = lst"
   ]
  },
  {
   "cell_type": "code",
   "execution_count": 3,
   "id": "a4463a04",
   "metadata": {},
   "outputs": [],
   "source": [
    "for x in range(0, rows):\n",
    "\n",
    "    if (df.loc[x, '结果 ID'] != df.loc[x + 1, '结果 ID']):\n",
    "        curr_id = df.loc[x, 'ID']\n",
    "        curr_time = df.loc[x, '采样时间']\n",
    "        last_time = df.loc[x - 1, '采样时间']\n",
    "        time_diff = curr_time - last_time\n",
    "        curr_angl = df.loc[x, '角度 (度)']\n",
    "        curr_resid = df.loc[x, '结果 ID']\n",
    "        lst = [0 for index in range(df.shape[1])]\n",
    "        \n",
    "        for i in range(18):\n",
    "            df.loc[rows + i] = lst\n",
    "            df.loc[rows + i, 'ID'] = curr_id + 1\n",
    "            curr_id = df.loc[rows + i, 'ID']\n",
    "            df.loc[rows + i, '采样时间'] = curr_time + time_diff\n",
    "            curr_time = df.loc[rows + i, '采样时间']\n",
    "            df.loc[rows + i, '角度 (度)'] = curr_angl\n",
    "            df.loc[rows + i, '结果 ID'] = curr_resid\n",
    "            \n",
    "        rows += 18"
   ]
  },
  {
   "cell_type": "code",
   "execution_count": 4,
   "id": "f4677073",
   "metadata": {},
   "outputs": [],
   "source": [
    "df = df.sort_values(by='结果 ID', ascending=False)"
   ]
  },
  {
   "cell_type": "code",
   "execution_count": 5,
   "id": "49ac4244",
   "metadata": {},
   "outputs": [],
   "source": [
    "df = df.groupby(df['结果 ID']).apply(lambda x: x.sort_values('ID', ascending=True))"
   ]
  },
  {
   "cell_type": "code",
   "execution_count": 6,
   "id": "e56411b6",
   "metadata": {},
   "outputs": [],
   "source": [
    "df.to_excel('excel1.xlsx', sheet_name='Sheet1', index=False)"
   ]
  }
 ],
 "metadata": {
  "kernelspec": {
   "display_name": "Python 3 (ipykernel)",
   "language": "python",
   "name": "python3"
  },
  "language_info": {
   "codemirror_mode": {
    "name": "ipython",
    "version": 3
   },
   "file_extension": ".py",
   "mimetype": "text/x-python",
   "name": "python",
   "nbconvert_exporter": "python",
   "pygments_lexer": "ipython3",
   "version": "3.9.12"
  }
 },
 "nbformat": 4,
 "nbformat_minor": 5
}
